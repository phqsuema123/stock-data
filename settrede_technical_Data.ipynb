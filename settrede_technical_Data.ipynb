{
 "cells": [
  {
   "cell_type": "code",
   "execution_count": 12,
   "metadata": {},
   "outputs": [],
   "source": [
    "from settrade_v2 import Investor\n",
    "import psycopg2\n",
    "import pandas as pd\n",
    "import time\n",
    "from psycopg2 import sql\n",
    "from datetime import datetime\n",
    "from pprint import pprint\n",
    "import mplfinance as mpf\n",
    "import matplotlib.pyplot as plt\n"
   ]
  },
  {
   "cell_type": "code",
   "execution_count": 1,
   "metadata": {},
   "outputs": [],
   "source": [
    "from settrade_v2 import Investor\n",
    "from pprint import pprint\n",
    "investor = Investor(\n",
    "                    app_id=\"xaFXpOT7KN3bJrji\",\n",
    "                    app_secret=\"Z+wjOTj43VzXDEnfAPsDIEzzaV4ZJhAplDAB6fQNtpc=\",\n",
    "                    broker_id=\"SANDBOX\",\n",
    "                    app_code=\"SANDBOX\",\n",
    "                    is_auto_queue = False)"
   ]
  },
  {
   "cell_type": "code",
   "execution_count": 2,
   "metadata": {},
   "outputs": [
    {
     "name": "stdout",
     "output_type": "stream",
     "text": [
      "Quote for AAPL\n"
     ]
    }
   ],
   "source": [
    "def get_quote_symbol(symbol):\n",
    "    return f\"Quote for {symbol}\"\n",
    "\n",
    "print(get_quote_symbol(\"AAPL\"))"
   ]
  },
  {
   "cell_type": "code",
   "execution_count": 3,
   "metadata": {},
   "outputs": [
    {
     "data": {
      "text/plain": [
       "{'creditLine': 2000000000.0,\n",
       " 'excessEquity': 2000000000.0,\n",
       " 'cashBalance': 2000000000.0,\n",
       " 'equity': 2000000000.0,\n",
       " 'totalMR': 0.0,\n",
       " 'totalMM': 0.0,\n",
       " 'totalFM': 0.0,\n",
       " 'callForceFlag': 'No',\n",
       " 'callForceMargin': 0.0,\n",
       " 'liquidationValue': 2000000000.0,\n",
       " 'depositWithdrawal': 0.0,\n",
       " 'callForceMarginMM': 0.0,\n",
       " 'initialMargin': 0.0,\n",
       " 'closingMethod': 'Auto Net'}"
      ]
     },
     "execution_count": 3,
     "metadata": {},
     "output_type": "execute_result"
    }
   ],
   "source": [
    "\n",
    "deri = investor.Derivatives(account_no=\"mama-D\")            \n",
    "\n",
    "account_info = deri.get_account_info()\n",
    "\n",
    "account_info                                              "
   ]
  },
  {
   "cell_type": "code",
   "execution_count": 4,
   "metadata": {},
   "outputs": [],
   "source": [
    "# กรณี Investor\n",
    "market = investor.MarketData()"
   ]
  },
  {
   "cell_type": "code",
   "execution_count": 5,
   "metadata": {},
   "outputs": [
    {
     "data": {
      "text/plain": [
       "{'lastSequence': 327229,\n",
       " 'time': [1740934800],\n",
       " 'open': [55.0],\n",
       " 'high': [57.5],\n",
       " 'low': [40.0],\n",
       " 'close': [57.5],\n",
       " 'volume': [88700],\n",
       " 'value': [4663500.0]}"
      ]
     },
     "execution_count": 5,
     "metadata": {},
     "output_type": "execute_result"
    }
   ],
   "source": [
    "res = market.get_candlestick(\n",
    "symbol=\"GULF\",\n",
    "interval=\"1d\",\n",
    "limit=1,\n",
    "normalized=True,\n",
    ")\n",
    "res"
   ]
  },
  {
   "cell_type": "code",
   "execution_count": 6,
   "metadata": {},
   "outputs": [],
   "source": [
    "db_config = {\n",
    "    'dbname': 'technical_Data',\n",
    "    'user': 'postgres',\n",
    "    'password': 'admin',\n",
    "    'host': 'localhost',\n",
    "    'port': \"5432\"\n",
    "}"
   ]
  },
  {
   "cell_type": "code",
   "execution_count": 26,
   "metadata": {},
   "outputs": [],
   "source": [
    "# ✅ ฟังก์ชันดึงข้อมูลแท่งเทียนจาก API และบันทึกลง PostgreSQL\n",
    "def insert_candlestick_data(symbol, interval=\"1d\", limit=10):\n",
    "    try:\n",
    "        print(f\"🔍 กำลังดึงข้อมูลแท่งเทียนสำหรับ {symbol} (Interval: {interval})...\")\n",
    "        res = market.get_candlestick(\n",
    "            symbol=symbol,\n",
    "            interval=interval,\n",
    "            limit=limit,\n",
    "            normalized=True\n",
    "        )\n",
    "\n",
    "        # 🚨 ตรวจสอบว่าข้อมูลเป็น Dictionary และมี Key ที่ต้องการ\n",
    "        if not isinstance(res, dict) or \"time\" not in res:\n",
    "            print(f\"⚠️ ข้อมูลแท่งเทียนของ {symbol} ไม่สามารถดึงได้ หรือ API ไม่รองรับ\")\n",
    "            print(f\"🔍 Response: {res}\")\n",
    "            return\n",
    "\n",
    "        # 🔗 เชื่อมต่อฐานข้อมูล\n",
    "        conn = psycopg2.connect(**db_config)\n",
    "        cursor = conn.cursor()\n",
    "\n",
    "        # 📌 คำสั่ง SQL สำหรับ INSERT\n",
    "        insert_query = sql.SQL(\"\"\"\n",
    "            INSERT INTO stock_candlestick (\n",
    "                symbol, interval, timestamp, open, high, low, close, volume, value, updated_at\n",
    "            ) VALUES (\n",
    "                %(symbol)s, %(interval)s, %(timestamp)s, %(open)s, %(high)s, %(low)s, %(close)s, %(volume)s, %(value)s, NOW()\n",
    "            )\n",
    "            ON CONFLICT (symbol, interval, timestamp) DO UPDATE SET\n",
    "                open = EXCLUDED.open,\n",
    "                high = EXCLUDED.high,\n",
    "                low = EXCLUDED.low,\n",
    "                close = EXCLUDED.close,\n",
    "                volume = EXCLUDED.volume,\n",
    "                value = EXCLUDED.value,\n",
    "                updated_at = NOW();\n",
    "        \"\"\")\n",
    "\n",
    "        # 🔄 **แปลงข้อมูลจาก Dictionary ที่มี List ให้เป็น List ของ Dictionary**\n",
    "        for i in range(len(res[\"time\"])):\n",
    "            data = {\n",
    "                'symbol': symbol,\n",
    "                'interval': interval,\n",
    "                'timestamp': convert_timestamp(res[\"time\"][i]),  # 🕒 แปลง timestamp\n",
    "                'open': res[\"open\"][i],\n",
    "                'high': res[\"high\"][i],\n",
    "                'low': res[\"low\"][i],\n",
    "                'close': res[\"close\"][i],\n",
    "                'volume': res[\"volume\"][i],\n",
    "                'value': res[\"value\"][i]\n",
    "            }\n",
    "\n",
    "            cursor.execute(insert_query, data)\n",
    "            conn.commit()\n",
    "\n",
    "        print(f\"✅ ข้อมูลแท่งเทียนของ {symbol} (Interval: {interval}) ถูกบันทึกเรียบร้อยแล้ว!\")\n",
    "\n",
    "    except Exception as e:\n",
    "        print(f\"❌ เกิดข้อผิดพลาดกับ {symbol}: {e}\")\n",
    "\n",
    "    finally:\n",
    "        if 'cursor' in locals(): cursor.close()\n",
    "        if 'conn' in locals(): conn.close()\n"
   ]
  },
  {
   "cell_type": "code",
   "execution_count": 27,
   "metadata": {},
   "outputs": [
    {
     "name": "stdout",
     "output_type": "stream",
     "text": [
      "🔍 กำลังดึงข้อมูลแท่งเทียนสำหรับ PTT (Interval: 1d)...\n"
     ]
    },
    {
     "name": "stderr",
     "output_type": "stream",
     "text": [
      "C:\\Users\\Admin\\AppData\\Local\\Temp\\ipykernel_1728\\3334529281.py:11: DeprecationWarning: datetime.datetime.utcfromtimestamp() is deprecated and scheduled for removal in a future version. Use timezone-aware objects to represent datetimes in UTC: datetime.datetime.fromtimestamp(timestamp, datetime.UTC).\n",
      "  return datetime.utcfromtimestamp(timestamp).strftime('%Y-%m-%d %H:%M:%S')\n"
     ]
    },
    {
     "name": "stdout",
     "output_type": "stream",
     "text": [
      "✅ ข้อมูลแท่งเทียนของ PTT (Interval: 1d) ถูกบันทึกเรียบร้อยแล้ว!\n",
      "🔍 กำลังดึงข้อมูลแท่งเทียนสำหรับ AOT (Interval: 1d)...\n",
      "✅ ข้อมูลแท่งเทียนของ AOT (Interval: 1d) ถูกบันทึกเรียบร้อยแล้ว!\n",
      "🔍 กำลังดึงข้อมูลแท่งเทียนสำหรับ SCB (Interval: 1d)...\n",
      "✅ ข้อมูลแท่งเทียนของ SCB (Interval: 1d) ถูกบันทึกเรียบร้อยแล้ว!\n",
      "🔍 กำลังดึงข้อมูลแท่งเทียนสำหรับ 24CS (Interval: 1d)...\n",
      "✅ ข้อมูลแท่งเทียนของ 24CS (Interval: 1d) ถูกบันทึกเรียบร้อยแล้ว!\n"
     ]
    }
   ],
   "source": [
    "symbols = [\"PTT\", \"AOT\", \"SCB\", \"24CS\"]  # ✅ ลองใส่หลายตัวเพื่อเช็ค API\n",
    "intervals = [\"1d\"]\n",
    "\n",
    "for symbol in symbols:\n",
    "    for interval in intervals:\n",
    "        insert_candlestick_data(symbol, interval=interval, limit=10)\n",
    "        time.sleep(2)  # ⏳ ลด API Rate Limit\n"
   ]
  },
  {
   "cell_type": "code",
   "execution_count": 10,
   "metadata": {},
   "outputs": [
    {
     "name": "stdout",
     "output_type": "stream",
     "text": [
      "                      open   high    low  close    volume\n",
      "timestamp                                                \n",
      "2025-03-02 17:00:00  34.25  35.00  31.50  32.00   1681500\n",
      "2025-02-27 17:00:00  31.50  32.00  31.00  31.50  79253587\n",
      "2025-02-26 17:00:00  32.00  32.50  31.75  31.75  34555147\n",
      "2025-02-25 17:00:00  32.25  32.50  32.00  32.00  42323806\n",
      "2025-02-24 17:00:00  32.50  32.75  32.25  32.25  56830600\n"
     ]
    },
    {
     "name": "stderr",
     "output_type": "stream",
     "text": [
      "C:\\Users\\Admin\\AppData\\Local\\Temp\\ipykernel_1908\\1297603462.py:13: UserWarning: pandas only supports SQLAlchemy connectable (engine/connection) or database string URI or sqlite3 DBAPI2 connection. Other DBAPI2 objects are not tested. Please consider using SQLAlchemy.\n",
      "  df = pd.read_sql(query, conn)\n"
     ]
    }
   ],
   "source": [
    "\n",
    "# ✅ ฟังก์ชันดึงข้อมูลแท่งเทียนจาก PostgreSQL\n",
    "def get_stock_data(symbol, interval=\"1d\", limit=50):\n",
    "    try:\n",
    "        # 🔗 เชื่อมต่อฐานข้อมูล\n",
    "        conn = psycopg2.connect(**db_config)\n",
    "        query = f\"\"\"\n",
    "            SELECT timestamp, open, high, low, close, volume \n",
    "            FROM stock_candlestick \n",
    "            WHERE symbol = '{symbol}' AND interval = '{interval}'\n",
    "            ORDER BY timestamp DESC\n",
    "            LIMIT {limit};\n",
    "        \"\"\"\n",
    "        df = pd.read_sql(query, conn)\n",
    "        conn.close()\n",
    "\n",
    "        # 🚀 แปลงข้อมูล timestamp ให้เป็น index\n",
    "        df['timestamp'] = pd.to_datetime(df['timestamp'])\n",
    "        df.set_index('timestamp', inplace=True)\n",
    "        return df\n",
    "\n",
    "    except Exception as e:\n",
    "        print(f\"❌ เกิดข้อผิดพลาด: {e}\")\n",
    "        return None\n",
    "\n",
    "# 🔥 ดึงข้อมูลหุ้น PTT (แทนที่ด้วยหุ้นที่ต้องการ)\n",
    "symbol = \"PTT\"\n",
    "df = get_stock_data(symbol, interval=\"1d\", limit=50)\n",
    "\n",
    "# 📌 ตรวจสอบข้อมูลก่อนนำไปพลอต\n",
    "print(df.head())  # แสดงข้อมูล 5 แถวแรก\n"
   ]
  },
  {
   "cell_type": "code",
   "execution_count": 13,
   "metadata": {},
   "outputs": [
    {
     "data": {
      "image/png": "[encoded data removed]",
      "text/plain": [
       "<Figure size 1200x600 with 4 Axes>"
      ]
     },
     "metadata": {},
     "output_type": "display_data"
    }
   ],
   "source": [
    "# 📊 ถ้ามีข้อมูล ให้แสดงกราฟ\n",
    "if df is not None and not df.empty:\n",
    "    mpf.plot(df, type='candle', volume=True, style='yahoo', title=f\"{symbol} Candlestick Chart\",\n",
    "             ylabel=\"Price\", ylabel_lower=\"Volume\", figsize=(12,6))\n",
    "    plt.show()\n",
    "else:\n",
    "    print(\"⚠️ ไม่มีข้อมูลเพียงพอสำหรับสร้างกราฟ\")\n"
   ]
  }
 ],
 "metadata": {
  "kernelspec": {
   "display_name": "base",
   "language": "python",
   "name": "python3"
  },
  "language_info": {
   "codemirror_mode": {
    "name": "ipython",
    "version": 3
   },
   "file_extension": ".py",
   "mimetype": "text/x-python",
   "name": "python",
   "nbconvert_exporter": "python",
   "pygments_lexer": "ipython3",
   "version": "3.12.7"
  }
 },
 "nbformat": 4,
 "nbformat_minor": 2
}

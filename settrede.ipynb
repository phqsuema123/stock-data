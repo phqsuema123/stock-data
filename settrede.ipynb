{
 "cells": [
  {
   "cell_type": "code",
   "execution_count": 24,
   "metadata": {},
   "outputs": [],
   "source": [
    "from settrade_v2 import Investor\n",
    "from pprint import pprint\n",
    "investor = Investor(\n",
    "                    app_id=\"QjoPK5sgQCklCXL1\",\n",
    "                    app_secret=\"dtRoqP3QU04GZoQreFYgLvMfrO6G7z0JtoHYY+k1lOc=\",\n",
    "                    broker_id=\"SANDBOX\",\n",
    "                    app_code=\"SANDBOX\",\n",
    "                    is_auto_queue = False)"
   ]
  },
  {
   "cell_type": "code",
   "execution_count": 25,
   "metadata": {},
   "outputs": [
    {
     "name": "stdout",
     "output_type": "stream",
     "text": [
      "Quote for AAPL\n"
     ]
    }
   ],
   "source": [
    "def get_quote_symbol(symbol):\n",
    "    return f\"Quote for {symbol}\"\n",
    "\n",
    "print(get_quote_symbol(\"AAPL\"))"
   ]
  },
  {
   "cell_type": "code",
   "execution_count": 31,
   "metadata": {},
   "outputs": [
    {
     "name": "stdout",
     "output_type": "stream",
     "text": [
      "❌ ไม่สามารถตรวจสอบสถานะตลาดได้: 'MarketData' object has no attribute 'get_market_status'\n",
      "🔎 กำลังดึงข้อมูลสำหรับ PTT...\n",
      "❌ ข้อผิดพลาดกับ PTT: An invalid response was received from the upstream server\n",
      "\n",
      "🔎 กำลังดึงข้อมูลสำหรับ SCB...\n",
      "❌ ข้อผิดพลาดกับ SCB: An invalid response was received from the upstream server\n",
      "\n",
      "🔎 กำลังดึงข้อมูลสำหรับ AOT...\n",
      "❌ ข้อผิดพลาดกับ AOT: An invalid response was received from the upstream server\n",
      "\n",
      "🔎 กำลังดึงข้อมูลสำหรับ CPALL...\n",
      "❌ ข้อผิดพลาดกับ CPALL: An invalid response was received from the upstream server\n",
      "\n",
      "🔎 กำลังดึงข้อมูลสำหรับ SET...\n",
      "❌ ข้อผิดพลาดกับ SET: An invalid response was received from the upstream server\n",
      "\n",
      "🔎 กำลังดึงข้อมูลสำหรับ SET50...\n",
      "❌ ข้อผิดพลาดกับ SET50: An invalid response was received from the upstream server\n",
      "\n"
     ]
    }
   ],
   "source": [
    "from settrade_v2 import Investor\n",
    "from pprint import pprint\n",
    "import time\n",
    "\n",
    "# 📝 ตั้งค่าการเชื่อมต่อ API (ตรวจสอบให้ถูกต้อง)\n",
    "investor = Investor(\n",
    "    app_id=\"QjoPK5sgQCklCXL1\",\n",
    "                    app_secret=\"dtRoqP3QU04GZoQreFYgLvMfrO6G7z0JtoHYY+k1lOc=\",\n",
    "                    broker_id=\"SANDBOX\",\n",
    "                    app_code=\"SANDBOX\",          # 👉 ใช้ 'SANDBOX' สำหรับทดสอบ\n",
    "    is_auto_queue=False\n",
    ")\n",
    "\n",
    "# 🏦 สร้าง MarketData object\n",
    "mkt_data = investor.MarketData()\n",
    "\n",
    "# ✅ ฟังก์ชันทดสอบการดึงข้อมูลราคาหุ้น\n",
    "def get_stock_quote(symbol):\n",
    "    try:\n",
    "        print(f\"🔎 กำลังดึงข้อมูลสำหรับ {symbol}...\")\n",
    "        res = mkt_data.get_quote_symbol(symbol)\n",
    "        pprint(res)\n",
    "        print(\"✅ ดึงข้อมูลสำเร็จ!\\n\")\n",
    "    except Exception as e:\n",
    "        print(f\"❌ ข้อผิดพลาดกับ {symbol}: {e}\\n\")\n",
    "\n",
    "# 📝 ตรวจสอบสถานะตลาดก่อนดึงข้อมูล\n",
    "try:\n",
    "    market_status = mkt_data.get_market_status()\n",
    "    pprint(market_status)\n",
    "except Exception as e:\n",
    "    print(f\"❌ ไม่สามารถตรวจสอบสถานะตลาดได้: {e}\")\n",
    "\n",
    "# 🏷️ สัญลักษณ์หุ้นสำหรับทดสอบ\n",
    "symbols = [\"PTT\", \"SCB\", \"AOT\", \"CPALL\", \"SET\", \"SET50\"]\n",
    "\n",
    "# 🔥 ดึงข้อมูลสำหรับสัญลักษณ์ที่กำหนด\n",
    "for symbol in symbols:\n",
    "    get_stock_quote(symbol)\n",
    "    time.sleep(2)  # 🕒 หน่วงเวลาเพื่อลดปัญหา Rate Limit\n"
   ]
  },
  {
   "cell_type": "code",
   "execution_count": 39,
   "metadata": {},
   "outputs": [
    {
     "data": {
      "text/plain": [
       "{'creditLine': 2000000000.0,\n",
       " 'excessEquity': 2000000000.0,\n",
       " 'cashBalance': 2000000000.0,\n",
       " 'equity': 2000000000.0,\n",
       " 'totalMR': 0.0,\n",
       " 'totalMM': 0.0,\n",
       " 'totalFM': 0.0,\n",
       " 'callForceFlag': 'No',\n",
       " 'callForceMargin': 0.0,\n",
       " 'liquidationValue': 2000000000.0,\n",
       " 'depositWithdrawal': 0.0,\n",
       " 'callForceMarginMM': 0.0,\n",
       " 'initialMargin': 0.0,\n",
       " 'closingMethod': 'Auto Net'}"
      ]
     },
     "execution_count": 39,
     "metadata": {},
     "output_type": "execute_result"
    }
   ],
   "source": [
    "from settrade_v2 import Investor\n",
    "\n",
    "investor = Investor(\n",
    "                app_id=\"lp11A6vrULY4GmiP\",                                 \n",
    "                app_secret=\"ejvKRHpVGbphucS4zoQrRnSQlgTpwyYmySf42/HfJFk=\", \n",
    "                broker_id=\"SANDBOX\",\n",
    "                app_code=\"SANDBOX\",\n",
    "                is_auto_queue = False)\n",
    "\n",
    "deri = investor.Derivatives(account_no=\"wanneeba-D\")            \n",
    "\n",
    "account_info = deri.get_account_info()\n",
    "\n",
    "account_info                                              "
   ]
  },
  {
   "cell_type": "code",
   "execution_count": 44,
   "metadata": {},
   "outputs": [
    {
     "name": "stdout",
     "output_type": "stream",
     "text": [
      "🔎 เมธอดที่มีอยู่ใน MarketData:\n",
      "['__class__', '__delattr__', '__dict__', '__dir__', '__doc__', '__eq__', '__format__', '__ge__', '__getattribute__', '__getstate__', '__gt__', '__hash__', '__init__', '__init_subclass__', '__le__', '__lt__', '__module__', '__ne__', '__new__', '__reduce__', '__reduce_ex__', '__repr__', '__setattr__', '__sizeof__', '__str__', '__subclasshook__', '__weakref__', '_ctx', 'get_candlestick', 'get_quote_symbol', 'market_url']\n",
      "❌ ไม่สามารถดึงข้อมูลดัชนี SET ได้: An invalid response was received from the upstream server\n",
      "🔎 กำลังดึงข้อมูลสำหรับ PTT...\n",
      "❌ ข้อผิดพลาดกับ PTT: An invalid response was received from the upstream server\n",
      "🔎 กำลังดึงข้อมูลสำหรับ SCB...\n",
      "❌ ข้อผิดพลาดกับ SCB: An invalid response was received from the upstream server\n",
      "🔎 กำลังดึงข้อมูลสำหรับ AOT...\n",
      "❌ ข้อผิดพลาดกับ AOT: An invalid response was received from the upstream server\n"
     ]
    }
   ],
   "source": [
    "\n",
    "# 🏦 สร้าง MarketData object\n",
    "mkt_data = investor.MarketData()\n",
    "\n",
    "# 🛠️ ตรวจสอบว่า MarketData มีเมธอดอะไรบ้าง\n",
    "print(\"🔎 เมธอดที่มีอยู่ใน MarketData:\")\n",
    "print(dir(mkt_data))\n",
    "\n",
    "# 🔍 ลองใช้เมธอดอื่นในการตรวจสอบข้อมูลตลาด\n",
    "try:\n",
    "    res = mkt_data.get_quote_symbol(\"SET\")  # ดึงข้อมูลดัชนี SET\n",
    "    pprint(res)\n",
    "except Exception as e:\n",
    "    print(\"❌ ไม่สามารถดึงข้อมูลดัชนี SET ได้:\", e)\n",
    "\n",
    "# 🏷️ ทดสอบดึงข้อมูลหุ้น\n",
    "symbols = [\"PTT\", \"SCB\", \"AOT\"]\n",
    "\n",
    "for symbol in symbols:\n",
    "    try:\n",
    "        print(f\"🔎 กำลังดึงข้อมูลสำหรับ {symbol}...\")\n",
    "        res = mkt_data.get_quote_symbol(symbol)\n",
    "        pprint(res)\n",
    "        time.sleep(2)  # 🕒 หน่วงเวลาเพื่อลดปัญหา Rate Limit\n",
    "    except Exception as e:\n",
    "        print(f\"❌ ข้อผิดพลาดกับ {symbol}: {e}\")"
   ]
  },
  {
   "cell_type": "code",
   "execution_count": 45,
   "metadata": {},
   "outputs": [
    {
     "ename": "SettradeError",
     "evalue": "An invalid response was received from the upstream server",
     "output_type": "error",
     "traceback": [
      "\u001b[1;31m---------------------------------------------------------------------------\u001b[0m",
      "\u001b[1;31mSettradeError\u001b[0m                             Traceback (most recent call last)",
      "Cell \u001b[1;32mIn[45], line 12\u001b[0m\n\u001b[0;32m      2\u001b[0m \u001b[38;5;28;01mfrom\u001b[39;00m \u001b[38;5;21;01mpprint\u001b[39;00m \u001b[38;5;28;01mimport\u001b[39;00m pprint\n\u001b[0;32m      4\u001b[0m investor \u001b[38;5;241m=\u001b[39m Investor(\n\u001b[0;32m      5\u001b[0m     app_id\u001b[38;5;241m=\u001b[39m\u001b[38;5;124m\"\u001b[39m\u001b[38;5;124mlp11A6vrULY4GmiP\u001b[39m\u001b[38;5;124m\"\u001b[39m,                                 \n\u001b[0;32m      6\u001b[0m                 app_secret\u001b[38;5;241m=\u001b[39m\u001b[38;5;124m\"\u001b[39m\u001b[38;5;124mejvKRHpVGbphucS4zoQrRnSQlgTpwyYmySf42/HfJFk=\u001b[39m\u001b[38;5;124m\"\u001b[39m,\n\u001b[1;32m   (...)\u001b[0m\n\u001b[0;32m      9\u001b[0m     is_auto_queue\u001b[38;5;241m=\u001b[39m\u001b[38;5;28;01mFalse\u001b[39;00m\n\u001b[0;32m     10\u001b[0m )\n\u001b[1;32m---> 12\u001b[0m fundamental_data \u001b[38;5;241m=\u001b[39m investor\u001b[38;5;241m.\u001b[39mMarketData()\u001b[38;5;241m.\u001b[39mget_quote_symbol(\u001b[38;5;124m\"\u001b[39m\u001b[38;5;124mPTT\u001b[39m\u001b[38;5;124m\"\u001b[39m)\n\u001b[0;32m     13\u001b[0m pprint(fundamental_data)\n",
      "File \u001b[1;32mc:\\Users\\Admin\\anaconda3\\Lib\\site-packages\\settrade_v2\\logger.py:191\u001b[0m, in \u001b[0;36mlog_wrapper.<locals>.wrapped\u001b[1;34m(*args, **kwargs)\u001b[0m\n\u001b[0;32m    189\u001b[0m     \u001b[38;5;28;01mif\u001b[39;00m \u001b[38;5;28misinstance\u001b[39m(e, SettradeError):\n\u001b[0;32m    190\u001b[0m         msg \u001b[38;5;241m=\u001b[39m {\u001b[38;5;124m\"\u001b[39m\u001b[38;5;124mcode\u001b[39m\u001b[38;5;124m\"\u001b[39m: e\u001b[38;5;241m.\u001b[39mcode, \u001b[38;5;124m\"\u001b[39m\u001b[38;5;124mmessage\u001b[39m\u001b[38;5;124m\"\u001b[39m: msg}\n\u001b[1;32m--> 191\u001b[0m     \u001b[38;5;28;01mraise\u001b[39;00m e\n\u001b[0;32m    192\u001b[0m \u001b[38;5;28;01mfinally\u001b[39;00m:\n\u001b[0;32m    193\u001b[0m     level \u001b[38;5;241m=\u001b[39m logging\u001b[38;5;241m.\u001b[39mINFO \u001b[38;5;28;01mif\u001b[39;00m msg \u001b[38;5;241m==\u001b[39m \u001b[38;5;124m\"\u001b[39m\u001b[38;5;124msuccess\u001b[39m\u001b[38;5;124m\"\u001b[39m \u001b[38;5;28;01melse\u001b[39;00m logging\u001b[38;5;241m.\u001b[39mERROR\n",
      "File \u001b[1;32mc:\\Users\\Admin\\anaconda3\\Lib\\site-packages\\settrade_v2\\logger.py:186\u001b[0m, in \u001b[0;36mlog_wrapper.<locals>.wrapped\u001b[1;34m(*args, **kwargs)\u001b[0m\n\u001b[0;32m    184\u001b[0m msg \u001b[38;5;241m=\u001b[39m \u001b[38;5;124m\"\u001b[39m\u001b[38;5;124msuccess\u001b[39m\u001b[38;5;124m\"\u001b[39m\n\u001b[0;32m    185\u001b[0m \u001b[38;5;28;01mtry\u001b[39;00m:\n\u001b[1;32m--> 186\u001b[0m     \u001b[38;5;28;01mreturn\u001b[39;00m method(\u001b[38;5;241m*\u001b[39margs, \u001b[38;5;241m*\u001b[39m\u001b[38;5;241m*\u001b[39mkwargs)\n\u001b[0;32m    187\u001b[0m \u001b[38;5;28;01mexcept\u001b[39;00m \u001b[38;5;167;01mException\u001b[39;00m \u001b[38;5;28;01mas\u001b[39;00m e:\n\u001b[0;32m    188\u001b[0m     msg \u001b[38;5;241m=\u001b[39m \u001b[38;5;28mstr\u001b[39m(e)\n",
      "File \u001b[1;32mc:\\Users\\Admin\\anaconda3\\Lib\\site-packages\\settrade_v2\\market.py:54\u001b[0m, in \u001b[0;36mMarketData.get_quote_symbol\u001b[1;34m(self, symbol)\u001b[0m\n\u001b[0;32m     52\u001b[0m path \u001b[38;5;241m=\u001b[39m \u001b[38;5;124mf\u001b[39m\u001b[38;5;124m\"\u001b[39m\u001b[38;5;132;01m{\u001b[39;00m\u001b[38;5;28mself\u001b[39m\u001b[38;5;241m.\u001b[39mmarket_url\u001b[38;5;132;01m}\u001b[39;00m\u001b[38;5;124m/quote/\u001b[39m\u001b[38;5;132;01m{\u001b[39;00msymbol\u001b[38;5;132;01m}\u001b[39;00m\u001b[38;5;124m\"\u001b[39m\n\u001b[0;32m     53\u001b[0m response \u001b[38;5;241m=\u001b[39m \u001b[38;5;28mself\u001b[39m\u001b[38;5;241m.\u001b[39m_ctx\u001b[38;5;241m.\u001b[39mdispatch(Option(\u001b[38;5;124m\"\u001b[39m\u001b[38;5;124mGET\u001b[39m\u001b[38;5;124m\"\u001b[39m, path))\n\u001b[1;32m---> 54\u001b[0m \u001b[38;5;28;01mreturn\u001b[39;00m response_to_dict(response)\n",
      "File \u001b[1;32mc:\\Users\\Admin\\anaconda3\\Lib\\site-packages\\settrade_v2\\util.py:42\u001b[0m, in \u001b[0;36mresponse_to_dict\u001b[1;34m(res)\u001b[0m\n\u001b[0;32m     40\u001b[0m \u001b[38;5;28;01mif\u001b[39;00m \u001b[38;5;129;01mnot\u001b[39;00m res\u001b[38;5;241m.\u001b[39mok:\n\u001b[0;32m     41\u001b[0m     data \u001b[38;5;241m=\u001b[39m res\u001b[38;5;241m.\u001b[39mjson()\n\u001b[1;32m---> 42\u001b[0m     \u001b[38;5;28;01mraise\u001b[39;00m SettradeError(\n\u001b[0;32m     43\u001b[0m         code\u001b[38;5;241m=\u001b[39mdata[\u001b[38;5;124m\"\u001b[39m\u001b[38;5;124mcode\u001b[39m\u001b[38;5;124m\"\u001b[39m],\n\u001b[0;32m     44\u001b[0m         status_code\u001b[38;5;241m=\u001b[39mres\u001b[38;5;241m.\u001b[39mstatus_code,\n\u001b[0;32m     45\u001b[0m         message\u001b[38;5;241m=\u001b[39mdata[\u001b[38;5;124m\"\u001b[39m\u001b[38;5;124mmessage\u001b[39m\u001b[38;5;124m\"\u001b[39m],\n\u001b[0;32m     46\u001b[0m     )\n\u001b[0;32m     47\u001b[0m \u001b[38;5;28;01mtry\u001b[39;00m:\n\u001b[0;32m     48\u001b[0m     data \u001b[38;5;241m=\u001b[39m res\u001b[38;5;241m.\u001b[39mjson()\n",
      "\u001b[1;31mSettradeError\u001b[0m: An invalid response was received from the upstream server"
     ]
    }
   ],
   "source": [
    "from settrade_v2 import Investor\n",
    "from pprint import pprint\n",
    "\n",
    "investor = Investor(\n",
    "    app_id=\"lp11A6vrULY4GmiP\",                                 \n",
    "                app_secret=\"ejvKRHpVGbphucS4zoQrRnSQlgTpwyYmySf42/HfJFk=\",\n",
    "    broker_id=\"SANDBOX\",\n",
    "    app_code=\"SANDBOX\",\n",
    "    is_auto_queue=False\n",
    ")\n",
    "\n",
    "fundamental_data = investor.MarketData().get_quote_symbol(\"PTT\")\n",
    "pprint(fundamental_data)\n"
   ]
  }
 ],
 "metadata": {
  "kernelspec": {
   "display_name": "base",
   "language": "python",
   "name": "python3"
  },
  "language_info": {
   "codemirror_mode": {
    "name": "ipython",
    "version": 3
   },
   "file_extension": ".py",
   "mimetype": "text/x-python",
   "name": "python",
   "nbconvert_exporter": "python",
   "pygments_lexer": "ipython3",
   "version": "3.12.7"
  }
 },
 "nbformat": 4,
 "nbformat_minor": 2
}

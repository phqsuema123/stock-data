{
 "cells": [
  {
   "cell_type": "code",
   "execution_count": 1,
   "metadata": {},
   "outputs": [],
   "source": [
    "from settrade_v2 import Investor\n",
    "from pprint import pprint\n",
    "investor = Investor(\n",
    "                    app_id=\"In388EHntutayNcc\",\n",
    "                    app_secret=\"AO/s8IJxG1oFXMeRoV8mbsYQnDS5RRIGS+qr+35QMVVU\",\n",
    "                    broker_id=\"SANDBOX\",\n",
    "                    app_code=\"SANDBOX\",\n",
    "                    is_auto_queue = False)"
   ]
  },
  {
   "cell_type": "code",
   "execution_count": 2,
   "metadata": {},
   "outputs": [
    {
     "name": "stdout",
     "output_type": "stream",
     "text": [
      "Quote for AAPL\n"
     ]
    }
   ],
   "source": [
    "def get_quote_symbol(symbol):\n",
    "    return f\"Quote for {symbol}\"\n",
    "\n",
    "print(get_quote_symbol(\"AAPL\"))"
   ]
  },
  {
   "cell_type": "code",
   "execution_count": 3,
   "metadata": {},
   "outputs": [
    {
     "data": {
      "text/plain": [
       "{'creditLine': 2000000000.0,\n",
       " 'excessEquity': 2000000000.0,\n",
       " 'cashBalance': 2000000000.0,\n",
       " 'equity': 2000000000.0,\n",
       " 'totalMR': 0.0,\n",
       " 'totalMM': 0.0,\n",
       " 'totalFM': 0.0,\n",
       " 'callForceFlag': 'No',\n",
       " 'callForceMargin': 0.0,\n",
       " 'liquidationValue': 2000000000.0,\n",
       " 'depositWithdrawal': 0.0,\n",
       " 'callForceMarginMM': 0.0,\n",
       " 'initialMargin': 0.0,\n",
       " 'closingMethod': 'Auto Net'}"
      ]
     },
     "execution_count": 3,
     "metadata": {},
     "output_type": "execute_result"
    }
   ],
   "source": [
    "\n",
    "deri = investor.Derivatives(account_no=\"mama-D\")            \n",
    "\n",
    "account_info = deri.get_account_info()\n",
    "\n",
    "account_info                                              "
   ]
  },
  {
   "cell_type": "code",
   "execution_count": 4,
   "metadata": {},
   "outputs": [],
   "source": [
    "# กรณี Investor\n",
    "market = investor.MarketData()"
   ]
  },
  {
   "cell_type": "code",
   "execution_count": 5,
   "metadata": {},
   "outputs": [
    {
     "data": {
      "text/plain": [
       "{'lastSequence': 327229,\n",
       " 'time': [1740934800],\n",
       " 'open': [55.0],\n",
       " 'high': [57.5],\n",
       " 'low': [40.0],\n",
       " 'close': [57.5],\n",
       " 'volume': [88700],\n",
       " 'value': [4663500.0]}"
      ]
     },
     "execution_count": 5,
     "metadata": {},
     "output_type": "execute_result"
    }
   ],
   "source": [
    "res = market.get_candlestick(\n",
    "symbol=\"GULF\",\n",
    "interval=\"1d\",\n",
    "limit=1,\n",
    "normalized=True,\n",
    ")\n",
    "res"
   ]
  },
  {
   "cell_type": "code",
   "execution_count": 6,
   "metadata": {},
   "outputs": [
    {
     "name": "stdout",
     "output_type": "stream",
     "text": [
      "{'aumSize': None,\n",
      " 'average': 74.6157,\n",
      " 'change': 0.5,\n",
      " 'eps': None,\n",
      " 'exchange': None,\n",
      " 'exercisePrice': None,\n",
      " 'exerciseRatio': None,\n",
      " 'high': 77.75,\n",
      " 'impliedVolatility': None,\n",
      " 'inav': None,\n",
      " 'instrumentType': 'STOCK',\n",
      " 'intrinsicValue': None,\n",
      " 'last': 77.75,\n",
      " 'lastTradingDate': None,\n",
      " 'low': 65.75,\n",
      " 'marketStatus': 'OffHour',\n",
      " 'maturityDate': None,\n",
      " 'moneyness': None,\n",
      " 'pbv': None,\n",
      " 'pe': None,\n",
      " 'percentChange': 0.65,\n",
      " 'percentYield': None,\n",
      " 'securityType': 'CS',\n",
      " 'symbol': 'AOT',\n",
      " 'theoretical': None,\n",
      " 'toLastTrade': None,\n",
      " 'totalVolume': 8579100,\n",
      " 'underlying': None,\n",
      " 'underlyingPrice': None}\n"
     ]
    }
   ],
   "source": [
    "mkt_data = investor.MarketData()\n",
    "res = mkt_data.get_quote_symbol(\"AOT\")\n",
    "pprint(res)"
   ]
  },
  {
   "cell_type": "code",
   "execution_count": null,
   "metadata": {},
   "outputs": [],
   "source": []
  }
 ],
 "metadata": {
  "kernelspec": {
   "display_name": "base",
   "language": "python",
   "name": "python3"
  },
  "language_info": {
   "codemirror_mode": {
    "name": "ipython",
    "version": 3
   },
   "file_extension": ".py",
   "mimetype": "text/x-python",
   "name": "python",
   "nbconvert_exporter": "python",
   "pygments_lexer": "ipython3",
   "version": "3.12.7"
  }
 },
 "nbformat": 4,
 "nbformat_minor": 2
}

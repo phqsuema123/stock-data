{
 "cells": [
  {
   "cell_type": "code",
   "execution_count": 1,
   "metadata": {},
   "outputs": [
    {
     "name": "stdout",
     "output_type": "stream",
     "text": [
      "Requirement already satisfied: requests in c:\\users\\admin\\anaconda3\\lib\\site-packages (2.32.3)\n",
      "Requirement already satisfied: charset-normalizer<4,>=2 in c:\\users\\admin\\anaconda3\\lib\\site-packages (from requests) (3.3.2)\n",
      "Requirement already satisfied: idna<4,>=2.5 in c:\\users\\admin\\anaconda3\\lib\\site-packages (from requests) (3.7)\n",
      "Requirement already satisfied: urllib3<3,>=1.21.1 in c:\\users\\admin\\anaconda3\\lib\\site-packages (from requests) (2.2.3)\n",
      "Requirement already satisfied: certifi>=2017.4.17 in c:\\users\\admin\\anaconda3\\lib\\site-packages (from requests) (2024.12.14)\n",
      "Note: you may need to restart the kernel to use updated packages.\n"
     ]
    }
   ],
   "source": [
    "pip install requests\n"
   ]
  },
  {
   "cell_type": "code",
   "execution_count": null,
   "metadata": {},
   "outputs": [
    {
     "name": "stdout",
     "output_type": "stream",
     "text": [
      "❌ เกิดข้อผิดพลาด: 401 - {\"error\":\"invalid_token\",\"error_description\":\"Cannot convert access token to JSON\"}\n"
     ]
    }
   ],
   "source": [
    "import requests\n",
    "\n",
    "# 🔑 กำหนด API Key ของคุณ\n",
    "api_key = \"d8cbb9c2-2c30-4156-9fda-7639cf9e8c26\"\n",
    "\n",
    "# 🌐 URL Endpoint ตัวอย่าง (ตรวจสอบเอกสาร API สำหรับ URL ที่ถูกต้อง)\n",
    "url = \"https://smart-api.set.or.th/api/market/stock/fundamentals\"\n",
    "\n",
    "# 📝 พารามิเตอร์การเรียก API\n",
    "params = {\n",
    "    \"symbol\": \"PTT\",        # สัญลักษณ์หุ้น\n",
    "    \"market\": \"SET\",        # ตลาด SET\n",
    "}\n",
    "\n",
    "# 🛡️ Header พร้อม API Key\n",
    "headers = {\n",
    "    \"Authorization\": f\"Bearer {api_key}\",\n",
    "    \"Content-Type\": \"application/json\"\n",
    "}\n",
    "\n",
    "# 🚀 เรียก API\n",
    "response = requests.get(url, headers=headers, params=params)\n",
    "\n",
    "# 🔍 ตรวจสอบผลลัพธ์\n",
    "if response.status_code == 200:\n",
    "    data = response.json()\n",
    "    print(\"✅ ข้อมูลพื้นฐานของหุ้น:\")\n",
    "    print(data)\n",
    "else:\n",
    "    print(f\"❌ เกิดข้อผิดพลาด: {response.status_code} - {response.text}\")\n"
   ]
  }
 ],
 "metadata": {
  "kernelspec": {
   "display_name": "base",
   "language": "python",
   "name": "python3"
  },
  "language_info": {
   "codemirror_mode": {
    "name": "ipython",
    "version": 3
   },
   "file_extension": ".py",
   "mimetype": "text/x-python",
   "name": "python",
   "nbconvert_exporter": "python",
   "pygments_lexer": "ipython3",
   "version": "3.12.7"
  }
 },
 "nbformat": 4,
 "nbformat_minor": 2
}

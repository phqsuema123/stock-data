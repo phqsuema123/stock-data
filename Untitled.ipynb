{
 "cells": [
  {
   "cell_type": "code",
   "execution_count": 1,
   "id": "77c9c5e4-4ded-418f-85ef-5778c58775cf",
   "metadata": {},
   "outputs": [],
   "source": [
    "import requests\n",
    "import pandas as pd\n",
    "import numpy as np\n",
    "import seaborn as sns\n",
    "import matplotlib.pyplot as plt"
   ]
  },
  {
   "cell_type": "code",
   "execution_count": 3,
   "id": "036e7a36-8776-432d-906a-bd4535f2009e",
   "metadata": {},
   "outputs": [],
   "source": [
    "from settrade_v2 import Investor\n",
    "from pprint import pprint\n",
    "\n",
    "investor = Investor(\n",
    "                    app_id=\"envVipGsSAv0TLW6\",\n",
    "                    app_secret=\"APzFmHxSuGjZC3lI6rIBXZiUCvEdmLslB1X4OiCbnd9S\",\n",
    "                    broker_id=\"SANDBOX\",\n",
    "                    app_code=\"SANDBOX\",\n",
    "                    is_auto_queue = False)"
   ]
  },
  {
   "cell_type": "code",
   "execution_count": 6,
   "id": "8ea28c6f-4710-4459-b6eb-4368aa7c8828",
   "metadata": {},
   "outputs": [
    {
     "name": "stdout",
     "output_type": "stream",
     "text": [
      "Quote for AAPL\n"
     ]
    }
   ],
   "source": [
    "def get_quote_symbol(symbol):\n",
    "    return f\"Quote for {symbol}\"\n",
    "\n",
    "print(get_quote_symbol(\"AAPL\"))\n"
   ]
  },
  {
   "cell_type": "code",
   "execution_count": 9,
   "id": "8b0aa58b-d981-453d-8f14-025f91faeef5",
   "metadata": {
    "scrolled": true
   },
   "outputs": [
    {
     "ename": "SettradeError",
     "evalue": "An invalid response was received from the upstream server",
     "output_type": "error",
     "traceback": [
      "\u001b[1;31m---------------------------------------------------------------------------\u001b[0m",
      "\u001b[1;31mSettradeError\u001b[0m                             Traceback (most recent call last)",
      "Cell \u001b[1;32mIn[9], line 2\u001b[0m\n\u001b[0;32m      1\u001b[0m mkt_data \u001b[38;5;241m=\u001b[39m investor\u001b[38;5;241m.\u001b[39mMarketData()\n\u001b[1;32m----> 2\u001b[0m res \u001b[38;5;241m=\u001b[39m mkt_data\u001b[38;5;241m.\u001b[39mget_quote_symbol(\u001b[38;5;124m\"\u001b[39m\u001b[38;5;124mPTT\u001b[39m\u001b[38;5;124m\"\u001b[39m)\n\u001b[0;32m      3\u001b[0m \u001b[38;5;28mprint\u001b[39m(res)\n",
      "File \u001b[1;32mc:\\Users\\Admin\\anaconda3\\Lib\\site-packages\\settrade_v2\\logger.py:191\u001b[0m, in \u001b[0;36mlog_wrapper.<locals>.wrapped\u001b[1;34m(*args, **kwargs)\u001b[0m\n\u001b[0;32m    189\u001b[0m     \u001b[38;5;28;01mif\u001b[39;00m \u001b[38;5;28misinstance\u001b[39m(e, SettradeError):\n\u001b[0;32m    190\u001b[0m         msg \u001b[38;5;241m=\u001b[39m {\u001b[38;5;124m\"\u001b[39m\u001b[38;5;124mcode\u001b[39m\u001b[38;5;124m\"\u001b[39m: e\u001b[38;5;241m.\u001b[39mcode, \u001b[38;5;124m\"\u001b[39m\u001b[38;5;124mmessage\u001b[39m\u001b[38;5;124m\"\u001b[39m: msg}\n\u001b[1;32m--> 191\u001b[0m     \u001b[38;5;28;01mraise\u001b[39;00m e\n\u001b[0;32m    192\u001b[0m \u001b[38;5;28;01mfinally\u001b[39;00m:\n\u001b[0;32m    193\u001b[0m     level \u001b[38;5;241m=\u001b[39m logging\u001b[38;5;241m.\u001b[39mINFO \u001b[38;5;28;01mif\u001b[39;00m msg \u001b[38;5;241m==\u001b[39m \u001b[38;5;124m\"\u001b[39m\u001b[38;5;124msuccess\u001b[39m\u001b[38;5;124m\"\u001b[39m \u001b[38;5;28;01melse\u001b[39;00m logging\u001b[38;5;241m.\u001b[39mERROR\n",
      "File \u001b[1;32mc:\\Users\\Admin\\anaconda3\\Lib\\site-packages\\settrade_v2\\logger.py:186\u001b[0m, in \u001b[0;36mlog_wrapper.<locals>.wrapped\u001b[1;34m(*args, **kwargs)\u001b[0m\n\u001b[0;32m    184\u001b[0m msg \u001b[38;5;241m=\u001b[39m \u001b[38;5;124m\"\u001b[39m\u001b[38;5;124msuccess\u001b[39m\u001b[38;5;124m\"\u001b[39m\n\u001b[0;32m    185\u001b[0m \u001b[38;5;28;01mtry\u001b[39;00m:\n\u001b[1;32m--> 186\u001b[0m     \u001b[38;5;28;01mreturn\u001b[39;00m method(\u001b[38;5;241m*\u001b[39margs, \u001b[38;5;241m*\u001b[39m\u001b[38;5;241m*\u001b[39mkwargs)\n\u001b[0;32m    187\u001b[0m \u001b[38;5;28;01mexcept\u001b[39;00m \u001b[38;5;167;01mException\u001b[39;00m \u001b[38;5;28;01mas\u001b[39;00m e:\n\u001b[0;32m    188\u001b[0m     msg \u001b[38;5;241m=\u001b[39m \u001b[38;5;28mstr\u001b[39m(e)\n",
      "File \u001b[1;32mc:\\Users\\Admin\\anaconda3\\Lib\\site-packages\\settrade_v2\\market.py:54\u001b[0m, in \u001b[0;36mMarketData.get_quote_symbol\u001b[1;34m(self, symbol)\u001b[0m\n\u001b[0;32m     52\u001b[0m path \u001b[38;5;241m=\u001b[39m \u001b[38;5;124mf\u001b[39m\u001b[38;5;124m\"\u001b[39m\u001b[38;5;132;01m{\u001b[39;00m\u001b[38;5;28mself\u001b[39m\u001b[38;5;241m.\u001b[39mmarket_url\u001b[38;5;132;01m}\u001b[39;00m\u001b[38;5;124m/quote/\u001b[39m\u001b[38;5;132;01m{\u001b[39;00msymbol\u001b[38;5;132;01m}\u001b[39;00m\u001b[38;5;124m\"\u001b[39m\n\u001b[0;32m     53\u001b[0m response \u001b[38;5;241m=\u001b[39m \u001b[38;5;28mself\u001b[39m\u001b[38;5;241m.\u001b[39m_ctx\u001b[38;5;241m.\u001b[39mdispatch(Option(\u001b[38;5;124m\"\u001b[39m\u001b[38;5;124mGET\u001b[39m\u001b[38;5;124m\"\u001b[39m, path))\n\u001b[1;32m---> 54\u001b[0m \u001b[38;5;28;01mreturn\u001b[39;00m response_to_dict(response)\n",
      "File \u001b[1;32mc:\\Users\\Admin\\anaconda3\\Lib\\site-packages\\settrade_v2\\util.py:42\u001b[0m, in \u001b[0;36mresponse_to_dict\u001b[1;34m(res)\u001b[0m\n\u001b[0;32m     40\u001b[0m \u001b[38;5;28;01mif\u001b[39;00m \u001b[38;5;129;01mnot\u001b[39;00m res\u001b[38;5;241m.\u001b[39mok:\n\u001b[0;32m     41\u001b[0m     data \u001b[38;5;241m=\u001b[39m res\u001b[38;5;241m.\u001b[39mjson()\n\u001b[1;32m---> 42\u001b[0m     \u001b[38;5;28;01mraise\u001b[39;00m SettradeError(\n\u001b[0;32m     43\u001b[0m         code\u001b[38;5;241m=\u001b[39mdata[\u001b[38;5;124m\"\u001b[39m\u001b[38;5;124mcode\u001b[39m\u001b[38;5;124m\"\u001b[39m],\n\u001b[0;32m     44\u001b[0m         status_code\u001b[38;5;241m=\u001b[39mres\u001b[38;5;241m.\u001b[39mstatus_code,\n\u001b[0;32m     45\u001b[0m         message\u001b[38;5;241m=\u001b[39mdata[\u001b[38;5;124m\"\u001b[39m\u001b[38;5;124mmessage\u001b[39m\u001b[38;5;124m\"\u001b[39m],\n\u001b[0;32m     46\u001b[0m     )\n\u001b[0;32m     47\u001b[0m \u001b[38;5;28;01mtry\u001b[39;00m:\n\u001b[0;32m     48\u001b[0m     data \u001b[38;5;241m=\u001b[39m res\u001b[38;5;241m.\u001b[39mjson()\n",
      "\u001b[1;31mSettradeError\u001b[0m: An invalid response was received from the upstream server"
     ]
    }
   ],
   "source": [
    "mkt_data = investor.MarketData()\n",
    "res = mkt_data.get_quote_symbol(\"PTT\")\n",
    "print(res)"
   ]
  },
  {
   "cell_type": "code",
   "execution_count": 8,
   "id": "0fa84099",
   "metadata": {},
   "outputs": [
    {
     "ename": "SettradeError",
     "evalue": "An invalid response was received from the upstream server",
     "output_type": "error",
     "traceback": [
      "\u001b[1;31m---------------------------------------------------------------------------\u001b[0m",
      "\u001b[1;31mSettradeError\u001b[0m                             Traceback (most recent call last)",
      "Cell \u001b[1;32mIn[8], line 1\u001b[0m\n\u001b[1;32m----> 1\u001b[0m res \u001b[38;5;241m=\u001b[39m mkt_data\u001b[38;5;241m.\u001b[39mget_quote_symbol(\u001b[38;5;124m\"\u001b[39m\u001b[38;5;124mAAPL\u001b[39m\u001b[38;5;124m\"\u001b[39m)  \u001b[38;5;66;03m# Or any known valid symbol\u001b[39;00m\n\u001b[0;32m      2\u001b[0m pprint(res)\n",
      "File \u001b[1;32mc:\\Users\\Admin\\anaconda3\\Lib\\site-packages\\settrade_v2\\logger.py:191\u001b[0m, in \u001b[0;36mlog_wrapper.<locals>.wrapped\u001b[1;34m(*args, **kwargs)\u001b[0m\n\u001b[0;32m    189\u001b[0m     \u001b[38;5;28;01mif\u001b[39;00m \u001b[38;5;28misinstance\u001b[39m(e, SettradeError):\n\u001b[0;32m    190\u001b[0m         msg \u001b[38;5;241m=\u001b[39m {\u001b[38;5;124m\"\u001b[39m\u001b[38;5;124mcode\u001b[39m\u001b[38;5;124m\"\u001b[39m: e\u001b[38;5;241m.\u001b[39mcode, \u001b[38;5;124m\"\u001b[39m\u001b[38;5;124mmessage\u001b[39m\u001b[38;5;124m\"\u001b[39m: msg}\n\u001b[1;32m--> 191\u001b[0m     \u001b[38;5;28;01mraise\u001b[39;00m e\n\u001b[0;32m    192\u001b[0m \u001b[38;5;28;01mfinally\u001b[39;00m:\n\u001b[0;32m    193\u001b[0m     level \u001b[38;5;241m=\u001b[39m logging\u001b[38;5;241m.\u001b[39mINFO \u001b[38;5;28;01mif\u001b[39;00m msg \u001b[38;5;241m==\u001b[39m \u001b[38;5;124m\"\u001b[39m\u001b[38;5;124msuccess\u001b[39m\u001b[38;5;124m\"\u001b[39m \u001b[38;5;28;01melse\u001b[39;00m logging\u001b[38;5;241m.\u001b[39mERROR\n",
      "File \u001b[1;32mc:\\Users\\Admin\\anaconda3\\Lib\\site-packages\\settrade_v2\\logger.py:186\u001b[0m, in \u001b[0;36mlog_wrapper.<locals>.wrapped\u001b[1;34m(*args, **kwargs)\u001b[0m\n\u001b[0;32m    184\u001b[0m msg \u001b[38;5;241m=\u001b[39m \u001b[38;5;124m\"\u001b[39m\u001b[38;5;124msuccess\u001b[39m\u001b[38;5;124m\"\u001b[39m\n\u001b[0;32m    185\u001b[0m \u001b[38;5;28;01mtry\u001b[39;00m:\n\u001b[1;32m--> 186\u001b[0m     \u001b[38;5;28;01mreturn\u001b[39;00m method(\u001b[38;5;241m*\u001b[39margs, \u001b[38;5;241m*\u001b[39m\u001b[38;5;241m*\u001b[39mkwargs)\n\u001b[0;32m    187\u001b[0m \u001b[38;5;28;01mexcept\u001b[39;00m \u001b[38;5;167;01mException\u001b[39;00m \u001b[38;5;28;01mas\u001b[39;00m e:\n\u001b[0;32m    188\u001b[0m     msg \u001b[38;5;241m=\u001b[39m \u001b[38;5;28mstr\u001b[39m(e)\n",
      "File \u001b[1;32mc:\\Users\\Admin\\anaconda3\\Lib\\site-packages\\settrade_v2\\market.py:54\u001b[0m, in \u001b[0;36mMarketData.get_quote_symbol\u001b[1;34m(self, symbol)\u001b[0m\n\u001b[0;32m     52\u001b[0m path \u001b[38;5;241m=\u001b[39m \u001b[38;5;124mf\u001b[39m\u001b[38;5;124m\"\u001b[39m\u001b[38;5;132;01m{\u001b[39;00m\u001b[38;5;28mself\u001b[39m\u001b[38;5;241m.\u001b[39mmarket_url\u001b[38;5;132;01m}\u001b[39;00m\u001b[38;5;124m/quote/\u001b[39m\u001b[38;5;132;01m{\u001b[39;00msymbol\u001b[38;5;132;01m}\u001b[39;00m\u001b[38;5;124m\"\u001b[39m\n\u001b[0;32m     53\u001b[0m response \u001b[38;5;241m=\u001b[39m \u001b[38;5;28mself\u001b[39m\u001b[38;5;241m.\u001b[39m_ctx\u001b[38;5;241m.\u001b[39mdispatch(Option(\u001b[38;5;124m\"\u001b[39m\u001b[38;5;124mGET\u001b[39m\u001b[38;5;124m\"\u001b[39m, path))\n\u001b[1;32m---> 54\u001b[0m \u001b[38;5;28;01mreturn\u001b[39;00m response_to_dict(response)\n",
      "File \u001b[1;32mc:\\Users\\Admin\\anaconda3\\Lib\\site-packages\\settrade_v2\\util.py:42\u001b[0m, in \u001b[0;36mresponse_to_dict\u001b[1;34m(res)\u001b[0m\n\u001b[0;32m     40\u001b[0m \u001b[38;5;28;01mif\u001b[39;00m \u001b[38;5;129;01mnot\u001b[39;00m res\u001b[38;5;241m.\u001b[39mok:\n\u001b[0;32m     41\u001b[0m     data \u001b[38;5;241m=\u001b[39m res\u001b[38;5;241m.\u001b[39mjson()\n\u001b[1;32m---> 42\u001b[0m     \u001b[38;5;28;01mraise\u001b[39;00m SettradeError(\n\u001b[0;32m     43\u001b[0m         code\u001b[38;5;241m=\u001b[39mdata[\u001b[38;5;124m\"\u001b[39m\u001b[38;5;124mcode\u001b[39m\u001b[38;5;124m\"\u001b[39m],\n\u001b[0;32m     44\u001b[0m         status_code\u001b[38;5;241m=\u001b[39mres\u001b[38;5;241m.\u001b[39mstatus_code,\n\u001b[0;32m     45\u001b[0m         message\u001b[38;5;241m=\u001b[39mdata[\u001b[38;5;124m\"\u001b[39m\u001b[38;5;124mmessage\u001b[39m\u001b[38;5;124m\"\u001b[39m],\n\u001b[0;32m     46\u001b[0m     )\n\u001b[0;32m     47\u001b[0m \u001b[38;5;28;01mtry\u001b[39;00m:\n\u001b[0;32m     48\u001b[0m     data \u001b[38;5;241m=\u001b[39m res\u001b[38;5;241m.\u001b[39mjson()\n",
      "\u001b[1;31mSettradeError\u001b[0m: An invalid response was received from the upstream server"
     ]
    }
   ],
   "source": [
    "res = mkt_data.get_quote_symbol(\"AAPL\")  # Or any known valid symbol\n",
    "pprint(res)\n"
   ]
  },
  {
   "cell_type": "code",
   "execution_count": 14,
   "id": "188eafe4",
   "metadata": {},
   "outputs": [
    {
     "name": "stdout",
     "output_type": "stream",
     "text": [
      "Collecting SpeechRecognition\n",
      "  Downloading SpeechRecognition-3.14.1-py3-none-any.whl.metadata (31 kB)\n",
      "Requirement already satisfied: typing-extensions in c:\\users\\admin\\anaconda3\\lib\\site-packages (from SpeechRecognition) (4.11.0)\n",
      "Downloading SpeechRecognition-3.14.1-py3-none-any.whl (32.9 MB)\n",
      "   ---------------------------------------- 0.0/32.9 MB ? eta -:--:--\n",
      "   - -------------------------------------- 1.0/32.9 MB 5.6 MB/s eta 0:00:06\n",
      "   -- ------------------------------------- 2.4/32.9 MB 6.1 MB/s eta 0:00:05\n",
      "   ---- ----------------------------------- 3.4/32.9 MB 5.9 MB/s eta 0:00:05\n",
      "   ------ --------------------------------- 5.0/32.9 MB 6.2 MB/s eta 0:00:05\n",
      "   ------- -------------------------------- 6.3/32.9 MB 6.1 MB/s eta 0:00:05\n",
      "   -------- ------------------------------- 7.3/32.9 MB 6.0 MB/s eta 0:00:05\n",
      "   ---------- ----------------------------- 8.4/32.9 MB 5.7 MB/s eta 0:00:05\n",
      "   ----------- ---------------------------- 9.7/32.9 MB 5.8 MB/s eta 0:00:04\n",
      "   ------------- -------------------------- 11.3/32.9 MB 5.9 MB/s eta 0:00:04\n",
      "   --------------- ------------------------ 12.6/32.9 MB 6.0 MB/s eta 0:00:04\n",
      "   ----------------- ---------------------- 14.2/32.9 MB 6.1 MB/s eta 0:00:04\n",
      "   ------------------- -------------------- 15.7/32.9 MB 6.3 MB/s eta 0:00:03\n",
      "   --------------------- ------------------ 17.6/32.9 MB 6.4 MB/s eta 0:00:03\n",
      "   ---------------------- ----------------- 18.9/32.9 MB 6.4 MB/s eta 0:00:03\n",
      "   ------------------------ --------------- 20.4/32.9 MB 6.5 MB/s eta 0:00:02\n",
      "   ------------------------- -------------- 21.0/32.9 MB 6.2 MB/s eta 0:00:02\n",
      "   ------------------------- -------------- 21.2/32.9 MB 5.9 MB/s eta 0:00:02\n",
      "   -------------------------- ------------- 21.5/32.9 MB 5.7 MB/s eta 0:00:02\n",
      "   -------------------------- ------------- 21.8/32.9 MB 5.7 MB/s eta 0:00:02\n",
      "   --------------------------- ------------ 22.3/32.9 MB 5.3 MB/s eta 0:00:02\n",
      "   --------------------------- ------------ 22.5/32.9 MB 5.1 MB/s eta 0:00:03\n",
      "   ---------------------------- ----------- 23.1/32.9 MB 5.0 MB/s eta 0:00:02\n",
      "   ---------------------------- ----------- 23.6/32.9 MB 4.8 MB/s eta 0:00:02\n",
      "   ---------------------------- ----------- 23.6/32.9 MB 4.8 MB/s eta 0:00:02\n",
      "   ----------------------------- ---------- 24.1/32.9 MB 4.6 MB/s eta 0:00:02\n",
      "   ----------------------------- ---------- 24.4/32.9 MB 4.5 MB/s eta 0:00:02\n",
      "   ------------------------------ --------- 24.6/32.9 MB 4.4 MB/s eta 0:00:02\n",
      "   ------------------------------ --------- 25.2/32.9 MB 4.3 MB/s eta 0:00:02\n",
      "   ------------------------------ --------- 25.4/32.9 MB 4.2 MB/s eta 0:00:02\n",
      "   ------------------------------- -------- 25.7/32.9 MB 4.1 MB/s eta 0:00:02\n",
      "   ------------------------------- -------- 26.2/32.9 MB 4.1 MB/s eta 0:00:02\n",
      "   -------------------------------- ------- 26.5/32.9 MB 4.0 MB/s eta 0:00:02\n",
      "   -------------------------------- ------- 27.0/32.9 MB 3.9 MB/s eta 0:00:02\n",
      "   --------------------------------- ------ 27.5/32.9 MB 3.8 MB/s eta 0:00:02\n",
      "   --------------------------------- ------ 27.8/32.9 MB 3.8 MB/s eta 0:00:02\n",
      "   ---------------------------------- ----- 28.3/32.9 MB 3.7 MB/s eta 0:00:02\n",
      "   ---------------------------------- ----- 28.6/32.9 MB 3.6 MB/s eta 0:00:02\n",
      "   ----------------------------------- ---- 29.1/32.9 MB 3.6 MB/s eta 0:00:02\n",
      "   ------------------------------------ --- 29.6/32.9 MB 3.6 MB/s eta 0:00:01\n",
      "   ------------------------------------- -- 30.9/32.9 MB 3.6 MB/s eta 0:00:01\n",
      "   ---------------------------------------  32.2/32.9 MB 3.7 MB/s eta 0:00:01\n",
      "   ---------------------------------------- 32.9/32.9 MB 3.7 MB/s eta 0:00:00\n",
      "Installing collected packages: SpeechRecognition\n",
      "Successfully installed SpeechRecognition-3.14.1\n",
      "Note: you may need to restart the kernel to use updated packages.\n"
     ]
    }
   ],
   "source": [
    "\n",
    "pip install SpeechRecognition\n"
   ]
  },
  {
   "cell_type": "code",
   "execution_count": null,
   "id": "923a8f9f",
   "metadata": {},
   "outputs": [],
   "source": [
    "\n",
    "import pyttsx3 \n",
    "\n",
    "#pyttsx3 เป็นไลบรารีการแปลงข้อความเป็นคำพูดใน Python \n",
    "#มันทำงานแบบออฟไลน์และเข้ากันได้กับทั้ง Python 2 และ 3\n",
    "import speech_recognition as sr\n",
    "import datetime\n",
    "import os\n",
    "\n",
    "# เริ่มต้นใช้งาน engine ชื่อ sapi5\n",
    "# sapi5 เทคโนโลยีสำหรับ voice recognition และ synthesis โดย Microsoft\n",
    "# voice recognition คือ การแปลงเสียงเป็นข้อความ\n",
    "# synthesis คือ การแปลงข้อความเป็นเสียง\n",
    "# ในกรณีนี้เราจะใช้เพื่อให้เสียงออกมา\n",
    "\n",
    "engine = pyttsx3.init('sapi5') \n",
    "\n",
    "\n",
    "\n",
    "# รับลิสต์เสียงสำหรับ engine\n",
    "#  engine.getProperty คือ แสดงรายชื่อเสียงที่สามารถใช้งานได้\n",
    "voices = engine.getProperty('voices')\n",
    "\n",
    "# เลือกเสียงแรกที่ใช้ได้ จาก voices[0] 0 คือตำแหน่งที่ 1\n",
    "engine.setProperty('voice', voices[0].id)\n",
    "\n",
    "#ฟังก์ชั่นในการพูด\n",
    "def speak(audio): \n",
    "    engine.say(audio) #พูดตามข้อมูลที่อยู่ในตัวแปล audio\n",
    "    engine.runAndWait() #รอให้เสียงเล่นจบ\n",
    "\n",
    "def commands():\n",
    "    \n",
    "\n",
    "    r=sr.Recognizer() # สร้างตัวแปร r เพื่อรับค่าจากการฟัง \n",
    "      \n",
    "    with sr.Microphone() as source: # ใช้ไมโครโฟนเป็น source ในการรับเสียง \n",
    "        print(\"Listening...\")\n",
    "        # ปรับความไวของตัวจำแนกตามเสียงรบกวนรอบข้างและบันทึกเสียง\n",
    "        r.pause_threshold = 1 # หยุดรอคำสั่ง 1 วินาที\n",
    "        r.adjust_for_ambient_noise(source, duration=1) # ปรับระดับเสียงรบกวน 1 วินาที \n",
    "        audio = r.listen(source) # รับเสียงจากไมโครโฟน\n",
    "\n",
    "    try: # ถ้ารับเสียงได้\n",
    "        print(\"Recognizing...\")\n",
    "        # อินสแตนซ์ของ Recognizer โดยใช้ Google Speech Recognition AP\n",
    "        query = r.recognize_google(audio, language='en-EN') # ภาษาไทย \n",
    "\n",
    "        print(f\"User said: {query}\\n\")# แสดงข้อความที่เราพูด ในคอนโซล\n",
    "\n",
    "    except Exception as e: # ถ้าไม่มีการพูด\n",
    "        print(e) # แสดงข้อความ error \n",
    "        print(\"Say that again please...\")# แสดงข้อความ พูดใหม่ \n",
    "        return \"None\"# คืนค่า None \n",
    "    return query# คืนค่า query\n",
    "\n",
    "# ฟังก์ชั่นนี้ต้องการให้ผู้ใช้ตามเวลาของวัน\n",
    "def wishings():\n",
    "    # รับชั่วโมงปัจจุบัน\n",
    "    hour = int(datetime.datetime.now().hour)\n",
    "    # ถ้าชั่วโมงอยู่ระหว่าง 0 ถึง 12, ให้พูดว่า Good Morning\n",
    "    if hour>=0 and hour<12:\n",
    "        speak(\"Good Morning!\")\n",
    "\n",
    "    # ถ้าชั่วโมงอยู่ระหว่าง 12 ถึง 18, ให้พูดว่า Good Afternoon\n",
    "    elif hour>=12 and hour<18:\n",
    "        speak(\"Good Afternoon!\")   \n",
    "\n",
    "    # มิฉะนั้น, ให้พูดว่า Good Evening\n",
    "    else:\n",
    "        speak(\"Good Evening!\")  \n",
    "\n",
    "    #สุดท้ายนี้ขอให้ผู้ใช้ พูดว่า สวัสดี และ ชื่อของผู้ใช้\n",
    "    speak(\"I am Jarvis Sir. Please tell me how may I help you\")"
   ]
  }
 ],
 "metadata": {
  "kernelspec": {
   "display_name": "base",
   "language": "python",
   "name": "python3"
  },
  "language_info": {
   "codemirror_mode": {
    "name": "ipython",
    "version": 3
   },
   "file_extension": ".py",
   "mimetype": "text/x-python",
   "name": "python",
   "nbconvert_exporter": "python",
   "pygments_lexer": "ipython3",
   "version": "3.12.7"
  }
 },
 "nbformat": 4,
 "nbformat_minor": 5
}

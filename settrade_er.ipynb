{
 "cells": [
  {
   "cell_type": "code",
   "execution_count": 1,
   "metadata": {},
   "outputs": [
    {
     "name": "stdout",
     "output_type": "stream",
     "text": [
      "❌ ไม่สามารถตรวจสอบสถานะตลาดได้: 'MarketData' object has no attribute 'get_market_status'\n",
      "🔎 กำลังดึงข้อมูลสำหรับ PTT...\n",
      "❌ ข้อผิดพลาดกับ PTT: An invalid response was received from the upstream server\n",
      "\n",
      "🔎 กำลังดึงข้อมูลสำหรับ SCB...\n",
      "❌ ข้อผิดพลาดกับ SCB: An invalid response was received from the upstream server\n",
      "\n",
      "🔎 กำลังดึงข้อมูลสำหรับ AOT...\n",
      "❌ ข้อผิดพลาดกับ AOT: An invalid response was received from the upstream server\n",
      "\n",
      "🔎 กำลังดึงข้อมูลสำหรับ CPALL...\n",
      "❌ ข้อผิดพลาดกับ CPALL: An invalid response was received from the upstream server\n",
      "\n",
      "🔎 กำลังดึงข้อมูลสำหรับ SET...\n",
      "❌ ข้อผิดพลาดกับ SET: An invalid response was received from the upstream server\n",
      "\n",
      "🔎 กำลังดึงข้อมูลสำหรับ SET50...\n",
      "❌ ข้อผิดพลาดกับ SET50: An invalid response was received from the upstream server\n",
      "\n"
     ]
    }
   ],
   "source": [
    "from settrade_v2 import Investor\n",
    "from pprint import pprint\n",
    "import time\n",
    "\n",
    "# 📝 ตั้งค่าการเชื่อมต่อ API (ตรวจสอบให้ถูกต้อง)\n",
    "investor = Investor(\n",
    "                    app_id=\"16QxkpFfunOtdLSj\",\n",
    "                    app_secret=\"AMarq7rGcCzUBjirocay9/phrBPjvxgKl0i/ljYJPOlO\",\n",
    "                    broker_id=\"SANDBOX\",\n",
    "                    app_code=\"SANDBOX\",          # 👉 ใช้ 'SANDBOX' สำหรับทดสอบ\n",
    "    is_auto_queue=False\n",
    ")\n",
    "\n",
    "# 🏦 สร้าง MarketData object\n",
    "mkt_data = investor.MarketData()\n",
    "\n",
    "# ✅ ฟังก์ชันทดสอบการดึงข้อมูลราคาหุ้น\n",
    "def get_stock_quote(symbol):\n",
    "    try:\n",
    "        print(f\"🔎 กำลังดึงข้อมูลสำหรับ {symbol}...\")\n",
    "        res = mkt_data.get_quote_symbol(symbol)\n",
    "        pprint(res)\n",
    "        print(\"✅ ดึงข้อมูลสำเร็จ!\\n\")\n",
    "    except Exception as e:\n",
    "        print(f\"❌ ข้อผิดพลาดกับ {symbol}: {e}\\n\")\n",
    "\n",
    "# 📝 ตรวจสอบสถานะตลาดก่อนดึงข้อมูล\n",
    "try:\n",
    "    market_status = mkt_data.get_market_status()\n",
    "    pprint(market_status)\n",
    "except Exception as e:\n",
    "    print(f\"❌ ไม่สามารถตรวจสอบสถานะตลาดได้: {e}\")\n",
    "\n",
    "# 🏷️ สัญลักษณ์หุ้นสำหรับทดสอบ\n",
    "symbols = [\"PTT\", \"SCB\", \"AOT\", \"CPALL\", \"SET\", \"SET50\"]\n",
    "\n",
    "# 🔥 ดึงข้อมูลสำหรับสัญลักษณ์ที่กำหนด\n",
    "for symbol in symbols:\n",
    "    get_stock_quote(symbol)\n",
    "    time.sleep(2)  # 🕒 หน่วงเวลาเพื่อลดปัญหา Rate Limit\n"
   ]
  }
 ],
 "metadata": {
  "kernelspec": {
   "display_name": "base",
   "language": "python",
   "name": "python3"
  },
  "language_info": {
   "codemirror_mode": {
    "name": "ipython",
    "version": 3
   },
   "file_extension": ".py",
   "mimetype": "text/x-python",
   "name": "python",
   "nbconvert_exporter": "python",
   "pygments_lexer": "ipython3",
   "version": "3.12.7"
  }
 },
 "nbformat": 4,
 "nbformat_minor": 2
}

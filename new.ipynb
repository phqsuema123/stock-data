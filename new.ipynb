{
 "cells": [
  {
   "cell_type": "code",
   "execution_count": 3,
   "metadata": {},
   "outputs": [],
   "source": [
    "from settrade_v2 import Investor\n",
    "from pprint import pprint\n",
    "\n",
    "investor = Investor(\n",
    "                    app_id=\"envVipGsSAv0TLW6\",\n",
    "                    app_secret=\"APzFmHxSuGjZC3lI6rIBXZiUCvEdmLslB1X4OiCbnd9S\",\n",
    "                    broker_id=\"SANDBOX\",\n",
    "                    app_code=\"SANDBOX\",\n",
    "                    is_auto_queue = False)"
   ]
  },
  {
   "cell_type": "code",
   "execution_count": 7,
   "metadata": {},
   "outputs": [
    {
     "name": "stdout",
     "output_type": "stream",
     "text": [
      "Quote for AAPL\n"
     ]
    }
   ],
   "source": [
    "def get_quote_symbol(symbol):\n",
    "    return f\"Quote for {symbol}\"\n",
    "\n",
    "print(get_quote_symbol(\"AAPL\"))"
   ]
  },
  {
   "cell_type": "code",
   "execution_count": null,
   "metadata": {},
   "outputs": [],
   "source": []
  }
 ],
 "metadata": {
  "kernelspec": {
   "display_name": "base",
   "language": "python",
   "name": "python3"
  },
  "language_info": {
   "codemirror_mode": {
    "name": "ipython",
    "version": 3
   },
   "file_extension": ".py",
   "mimetype": "text/x-python",
   "name": "python",
   "nbconvert_exporter": "python",
   "pygments_lexer": "ipython3",
   "version": "3.12.7"
  }
 },
 "nbformat": 4,
 "nbformat_minor": 2
}

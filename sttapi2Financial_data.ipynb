{
 "cells": [
  {
   "cell_type": "code",
   "execution_count": 7,
   "metadata": {},
   "outputs": [],
   "source": [
    "from settrade_v2 import Investor\n",
    "from pprint import pprint\n",
    "from settrade_v2 import Investor\n",
    "import psycopg2\n",
    "import pandas as pd\n",
    "import time\n",
    "from psycopg2 import sql\n",
    "from datetime import datetime\n",
    "from pprint import pprint\n",
    "import mplfinance as mpf\n",
    "import matplotlib.pyplot as plt\n",
    "import numpy as np"
   ]
  },
  {
   "cell_type": "code",
   "execution_count": 8,
   "metadata": {},
   "outputs": [],
   "source": [
    "investor = Investor(\n",
    "                    app_id=\"xzxY3IciHakYITRk\",\n",
    "                    app_secret=\"AMPs/EPM3jIYeNlY2otoMcQawPFBcn21p1XR5sze+z9Y\",\n",
    "                    broker_id=\"SANDBOX\",\n",
    "                    app_code=\"SANDBOX\",\n",
    "                    is_auto_queue = False)"
   ]
  },
  {
   "cell_type": "code",
   "execution_count": 9,
   "metadata": {},
   "outputs": [],
   "source": [
    "# กรณี Investor\n",
    "market = investor.MarketData()"
   ]
  },
  {
   "cell_type": "code",
   "execution_count": 10,
   "metadata": {},
   "outputs": [
    {
     "name": "stdout",
     "output_type": "stream",
     "text": [
      "{'aumSize': None,\n",
      " 'average': None,\n",
      " 'change': None,\n",
      " 'eps': 0.37,\n",
      " 'exchange': None,\n",
      " 'exercisePrice': None,\n",
      " 'exerciseRatio': None,\n",
      " 'high': None,\n",
      " 'impliedVolatility': None,\n",
      " 'inav': None,\n",
      " 'instrumentType': 'STOCK',\n",
      " 'intrinsicValue': None,\n",
      " 'last': None,\n",
      " 'lastTradingDate': None,\n",
      " 'low': None,\n",
      " 'marketStatus': 'Close',\n",
      " 'maturityDate': None,\n",
      " 'moneyness': None,\n",
      " 'pbv': 4.41,\n",
      " 'pe': 28.62,\n",
      " 'percentChange': None,\n",
      " 'percentYield': 1.9800000190734863,\n",
      " 'securityType': 'CS',\n",
      " 'status': '',\n",
      " 'symbol': 'AOT',\n",
      " 'theoretical': None,\n",
      " 'toLastTrade': None,\n",
      " 'totalBuyVolume': 276600,\n",
      " 'totalNoSideVolume': 93400,\n",
      " 'totalSellVolume': 76800,\n",
      " 'totalVolume': 0,\n",
      " 'underlying': None,\n",
      " 'underlyingPrice': None}\n"
     ]
    }
   ],
   "source": [
    "mkt_data = investor.MarketData()\n",
    "res = mkt_data.get_quote_symbol(\"AOT\")\n",
    "pprint(res)"
   ]
  },
  {
   "cell_type": "code",
   "execution_count": 6,
   "metadata": {},
   "outputs": [],
   "source": [
    "def insert_financial_data(symbol):\n",
    "    try:\n",
    "        print(f\"🔍 กำลังดึงข้อมูล Financial Data สำหรับ {symbol}...\")\n",
    "        res = market.get_quote_symbol(symbol)\n",
    "\n",
    "        # 🚨 ตรวจสอบว่ามีข้อมูลที่ถูกต้อง\n",
    "        if not isinstance(res, dict) or \"symbol\" not in res:\n",
    "            print(f\"⚠️ ไม่มีข้อมูลสำหรับ {symbol}. Response: {res}\")\n",
    "            return\n",
    "\n",
    "        # 📝 แสดงค่าที่ได้รับจาก API\n",
    "        print(f\"✅ Data from API for {symbol}:\")\n",
    "        for key, value in res.items():\n",
    "            print(f\"{key}: {value}\")\n",
    "\n",
    "    except Exception as e:\n",
    "        print(f\"❌ เกิดข้อผิดพลาด: {e}\")\n"
   ]
  },
  {
   "cell_type": "code",
   "execution_count": 7,
   "metadata": {},
   "outputs": [
    {
     "name": "stdout",
     "output_type": "stream",
     "text": [
      "{'instrumentType': 'STOCK', 'symbol': 'AOT', 'high': None, 'low': None, 'last': None, 'average': None, 'change': None, 'percentChange': None, 'totalVolume': 0, 'marketStatus': 'Close', 'securityType': 'CS', 'eps': None, 'pe': None, 'pbv': None, 'percentYield': None, 'maturityDate': None, 'exercisePrice': None, 'underlying': None, 'underlyingPrice': None, 'intrinsicValue': None, 'theoretical': None, 'moneyness': None, 'lastTradingDate': None, 'toLastTrade': None, 'exerciseRatio': None, 'impliedVolatility': None, 'exchange': None, 'aumSize': None, 'inav': None}\n"
     ]
    }
   ],
   "source": [
    "print(res)"
   ]
  },
  {
   "cell_type": "code",
   "execution_count": null,
   "metadata": {},
   "outputs": [
    {
     "ename": "NameError",
     "evalue": "name 'insert_query' is not defined",
     "output_type": "error",
     "traceback": [
      "\u001b[1;31m---------------------------------------------------------------------------\u001b[0m",
      "\u001b[1;31mNameError\u001b[0m                                 Traceback (most recent call last)",
      "Cell \u001b[1;32mIn[13], line 1\u001b[0m\n\u001b[1;32m----> 1\u001b[0m \u001b[38;5;28mprint\u001b[39m(\u001b[38;5;124mf\u001b[39m\u001b[38;5;124m\"\u001b[39m\u001b[38;5;124m🔹 SQL Query: \u001b[39m\u001b[38;5;132;01m{\u001b[39;00minsert_query\u001b[38;5;241m.\u001b[39mas_string(conn)\u001b[38;5;132;01m}\u001b[39;00m\u001b[38;5;124m\"\u001b[39m)\n\u001b[0;32m      2\u001b[0m \u001b[38;5;28mprint\u001b[39m(\u001b[38;5;124mf\u001b[39m\u001b[38;5;124m\"\u001b[39m\u001b[38;5;124m🔹 Data: \u001b[39m\u001b[38;5;132;01m{\u001b[39;00mdata\u001b[38;5;132;01m}\u001b[39;00m\u001b[38;5;124m\"\u001b[39m)\n",
      "\u001b[1;31mNameError\u001b[0m: name 'insert_query' is not defined"
     ]
    }
   ],
   "source": [
    "print(f\"🔹 SQL Query: {insert_query.as_string(conn)}\")\n",
    "print(f\"🔹 Data: {data}\")\n"
   ]
  },
  {
   "cell_type": "code",
   "execution_count": null,
   "metadata": {},
   "outputs": [],
   "source": [
    "db_config = {\n",
    "    'dbname': 'Financial_data',\n",
    "    'user': 'postgres',\n",
    "    'password': 'admin',\n",
    "    'host': 'localhost',\n",
    "    'port': \"5432\"\n",
    "}"
   ]
  },
  {
   "cell_type": "code",
   "execution_count": null,
   "metadata": {},
   "outputs": [],
   "source": [
    "# ✅ ฟังก์ชันดึงข้อมูล Financial Data จาก SETTRADE API และบันทึกลง PostgreSQL\n",
    "def insert_financial_data(symbol):\n",
    "    try:\n",
    "        print(f\"🔍 กำลังดึงข้อมูล Financial Data สำหรับ {symbol}...\")\n",
    "        res = market.get_quote_symbol(symbol)\n",
    "\n",
    "        # 🚨 ถ้าไม่มีข้อมูล ให้ข้าม\n",
    "        if not isinstance(res, dict) or \"symbol\" not in res:\n",
    "            print(f\"⚠️ ไม่มีข้อมูลสำหรับ {symbol}.\")\n",
    "            return\n",
    "\n",
    "        # 🔧 กำหนดค่า None เป็น 0 หรือค่าเริ่มต้น\n",
    "        data = {\n",
    "            'symbol': res.get('symbol', symbol),\n",
    "            'instrument_type': res.get('instrumentType', 'STOCK'),\n",
    "            'security_type': res.get('securityType', 'CS'),\n",
    "            'market_status': res.get('marketStatus', 'Unknown'),\n",
    "            'total_volume': res.get('totalVolume', 0),\n",
    "            'aum_size': res.get('aumSize', 0),\n",
    "            'average': res.get('average', 0),\n",
    "            'change': res.get('change', 0),\n",
    "            'eps': res.get('eps', 0),\n",
    "            'exchange': res.get('exchange', ''),\n",
    "            'exercise_price': res.get('exercisePrice', 0),\n",
    "            'exercise_ratio': res.get('exerciseRatio', 0),\n",
    "            'high': res.get('high', 0),\n",
    "            'implied_volatility': res.get('impliedVolatility', 0),\n",
    "            'inav': res.get('inav', 0),\n",
    "            'intrinsic_value': res.get('intrinsicValue', 0),\n",
    "            'last': res.get('last', 0),\n",
    "            'last_trading_date': res.get('lastTradingDate', ''),\n",
    "            'low': res.get('low', 0),\n",
    "            'maturity_date': res.get('maturityDate', ''),\n",
    "            'moneyness': res.get('moneyness', 0),\n",
    "            'pbv': res.get('pbv', 0),\n",
    "            'pe': res.get('pe', 0),\n",
    "            'percent_change': res.get('percentChange', 0),\n",
    "            'percent_yield': res.get('percentYield', 0),\n",
    "            'theoretical': res.get('theoretical', 0),\n",
    "            'to_last_trade': res.get('toLastTrade', 0),\n",
    "            'underlying': res.get('underlying', ''),\n",
    "            'underlying_price': res.get('underlyingPrice', 0),\n",
    "            'updated_at': 'NOW()'\n",
    "        }\n",
    "\n",
    "        # 🔗 เชื่อมต่อฐานข้อมูล\n",
    "        conn = psycopg2.connect(**db_config)\n",
    "        cursor = conn.cursor()\n",
    "\n",
    "        # 📌 คำสั่ง SQL สำหรับ INSERT\n",
    "        insert_query = sql.SQL(\"\"\"\n",
    "            INSERT INTO stock_financials (\n",
    "                symbol, instrument_type, security_type, market_status, total_volume, \n",
    "                aum_size, average, change, eps, exchange, exercise_price, \n",
    "                exercise_ratio, high, implied_volatility, inav, intrinsic_value, \n",
    "                last, last_trading_date, low, maturity_date, moneyness, pbv, pe, \n",
    "                percent_change, percent_yield, theoretical, to_last_trade, underlying, \n",
    "                underlying_price, updated_at\n",
    "            ) VALUES (\n",
    "                %(symbol)s, %(instrument_type)s, %(security_type)s, %(market_status)s, %(total_volume)s,\n",
    "                %(aum_size)s, %(average)s, %(change)s, %(eps)s, %(exchange)s, %(exercise_price)s,\n",
    "                %(exercise_ratio)s, %(high)s, %(implied_volatility)s, %(inav)s, %(intrinsic_value)s,\n",
    "                %(last)s, %(last_trading_date)s, %(low)s, %(maturity_date)s, %(moneyness)s, %(pbv)s, %(pe)s,\n",
    "                %(percent_change)s, %(percent_yield)s, %(theoretical)s, %(to_last_trade)s, %(underlying)s,\n",
    "                %(underlying_price)s, NOW()\n",
    "            )\n",
    "            ON CONFLICT (symbol) DO UPDATE SET\n",
    "                instrument_type = EXCLUDED.instrument_type,\n",
    "                security_type = EXCLUDED.security_type,\n",
    "                market_status = EXCLUDED.market_status,\n",
    "                total_volume = EXCLUDED.total_volume,\n",
    "                aum_size = EXCLUDED.aum_size,\n",
    "                average = EXCLUDED.average,\n",
    "                change = EXCLUDED.change,\n",
    "                eps = EXCLUDED.eps,\n",
    "                exchange = EXCLUDED.exchange,\n",
    "                exercise_price = EXCLUDED.exercise_price,\n",
    "                exercise_ratio = EXCLUDED.exercise_ratio,\n",
    "                high = EXCLUDED.high,\n",
    "                implied_volatility = EXCLUDED.implied_volatility,\n",
    "                inav = EXCLUDED.inav,\n",
    "                intrinsic_value = EXCLUDED.intrinsic_value,\n",
    "                last = EXCLUDED.last,\n",
    "                last_trading_date = EXCLUDED.last_trading_date,\n",
    "                low = EXCLUDED.low,\n",
    "                maturity_date = EXCLUDED.maturity_date,\n",
    "                moneyness = EXCLUDED.moneyness,\n",
    "                pbv = EXCLUDED.pbv,\n",
    "                pe = EXCLUDED.pe,\n",
    "                percent_change = EXCLUDED.percent_change,\n",
    "                percent_yield = EXCLUDED.percent_yield,\n",
    "                theoretical = EXCLUDED.theoretical,\n",
    "                to_last_trade = EXCLUDED.to_last_trade,\n",
    "                underlying = EXCLUDED.underlying,\n",
    "                underlying_price = EXCLUDED.underlying_price,\n",
    "                updated_at = NOW();\n",
    "        \"\"\")\n",
    "\n",
    "        # 🚀 บันทึกข้อมูลลง PostgreSQL\n",
    "        cursor.execute(insert_query, data)\n",
    "        conn.commit()\n",
    "        print(f\"✅ ข้อมูล Financial Data ของ {symbol} ถูกบันทึกเรียบร้อยแล้ว!\")\n",
    "\n",
    "    except Exception as e:\n",
    "        print(f\"❌ เกิดข้อผิดพลาดกับ {symbol}: {e}\")\n",
    "\n",
    "    finally:\n",
    "        if 'cursor' in locals(): cursor.close()\n",
    "        if 'conn' in locals(): conn.close()\n"
   ]
  },
  {
   "cell_type": "code",
   "execution_count": null,
   "metadata": {},
   "outputs": [
    {
     "name": "stdout",
     "output_type": "stream",
     "text": [
      "🔍 กำลังดึงข้อมูล Financial Data สำหรับ 24CS...\n",
      "✅ ข้อมูล Financial Data ของ 24CS ถูกบันทึกเรียบร้อยแล้ว!\n",
      "🔍 กำลังดึงข้อมูล Financial Data สำหรับ 2S...\n",
      "✅ ข้อมูล Financial Data ของ 2S ถูกบันทึกเรียบร้อยแล้ว!\n",
      "🔍 กำลังดึงข้อมูล Financial Data สำหรับ 3BBIF...\n",
      "✅ ข้อมูล Financial Data ของ 3BBIF ถูกบันทึกเรียบร้อยแล้ว!\n",
      "🔍 กำลังดึงข้อมูล Financial Data สำหรับ A...\n",
      "✅ ข้อมูล Financial Data ของ A ถูกบันทึกเรียบร้อยแล้ว!\n",
      "🔍 กำลังดึงข้อมูล Financial Data สำหรับ A5...\n",
      "✅ ข้อมูล Financial Data ของ A5 ถูกบันทึกเรียบร้อยแล้ว!\n",
      "🔍 กำลังดึงข้อมูล Financial Data สำหรับ AAI...\n",
      "✅ ข้อมูล Financial Data ของ AAI ถูกบันทึกเรียบร้อยแล้ว!\n",
      "🔍 กำลังดึงข้อมูล Financial Data สำหรับ AAV...\n",
      "✅ ข้อมูล Financial Data ของ AAV ถูกบันทึกเรียบร้อยแล้ว!\n",
      "🔍 กำลังดึงข้อมูล Financial Data สำหรับ ABM...\n",
      "✅ ข้อมูล Financial Data ของ ABM ถูกบันทึกเรียบร้อยแล้ว!\n",
      "🔍 กำลังดึงข้อมูล Financial Data สำหรับ ACAP...\n",
      "✅ ข้อมูล Financial Data ของ ACAP ถูกบันทึกเรียบร้อยแล้ว!\n",
      "🔍 กำลังดึงข้อมูล Financial Data สำหรับ ACC...\n",
      "✅ ข้อมูล Financial Data ของ ACC ถูกบันทึกเรียบร้อยแล้ว!\n"
     ]
    },
    {
     "ename": "KeyboardInterrupt",
     "evalue": "",
     "output_type": "error",
     "traceback": [
      "\u001b[1;31m---------------------------------------------------------------------------\u001b[0m",
      "\u001b[1;31mKeyboardInterrupt\u001b[0m                         Traceback (most recent call last)",
      "Cell \u001b[1;32mIn[9], line 12\u001b[0m\n\u001b[0;32m     10\u001b[0m \u001b[38;5;28;01mfor\u001b[39;00m symbol \u001b[38;5;129;01min\u001b[39;00m symbols:\n\u001b[0;32m     11\u001b[0m     insert_financial_data(symbol)\n\u001b[1;32m---> 12\u001b[0m     time\u001b[38;5;241m.\u001b[39msleep(\u001b[38;5;241m2\u001b[39m)\n",
      "\u001b[1;31mKeyboardInterrupt\u001b[0m: "
     ]
    }
   ],
   "source": [
    "# 🔥 โหลดรายชื่อหุ้นทั้งหมดจากไฟล์ CSV\n",
    "try:\n",
    "    symbols_df = pd.read_csv(\"thai_stocks.csv\")  # ไฟล์ต้องมีคอลัมน์ 'symbol'\n",
    "    symbols = symbols_df['symbol'].dropna().tolist()\n",
    "except FileNotFoundError:\n",
    "    print(\"❌ ไม่พบไฟล์ 'thai_stocks.csv' ใช้รายชื่อหุ้นที่กำหนดแทน\")\n",
    "    symbols = [\"PTT\", \"AOT\", \"SCB\", \"CPALL\", \"ADVANC\"]\n",
    "\n",
    "# 🔄 ดึงข้อมูล Financial Data สำหรับหุ้นทุกตัว\n",
    "for symbol in symbols:\n",
    "    insert_financial_data(symbol)\n",
    "    time.sleep(2)  # ⏳ ลด API Rate Limit\n"
   ]
  }
 ],
 "metadata": {
  "kernelspec": {
   "display_name": "Python 3",
   "language": "python",
   "name": "python3"
  },
  "language_info": {
   "codemirror_mode": {
    "name": "ipython",
    "version": 3
   },
   "file_extension": ".py",
   "mimetype": "text/x-python",
   "name": "python",
   "nbconvert_exporter": "python",
   "pygments_lexer": "ipython3",
   "version": "3.10.0"
  }
 },
 "nbformat": 4,
 "nbformat_minor": 2
}

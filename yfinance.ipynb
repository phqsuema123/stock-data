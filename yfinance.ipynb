{
 "cells": [
  {
   "cell_type": "code",
   "execution_count": 1,
   "metadata": {},
   "outputs": [
    {
     "name": "stdout",
     "output_type": "stream",
     "text": [
      "🔎 ข้อมูลหุ้น Gulf Energy Development Public Company Limited\n",
      "Symbol: GULF.BK\n",
      "Exchange: SET\n",
      "Last Price: 50.25\n",
      "Day High: 52.75\n",
      "Day Low: 50.0\n",
      "Change: -2.75 (-5.188679%)\n",
      "Volume: 19604973\n",
      "EPS: 1.55\n",
      "P/E Ratio: 32.419357\n",
      "Dividend Yield: 1.91\n",
      "Implied Volatility: None\n"
     ]
    }
   ],
   "source": [
    "import yfinance as yf\n",
    "\n",
    "# เลือกหุ้นไทย เช่น AOT.BK (Airports of Thailand)\n",
    "symbol = \"GULF.BK\"\n",
    "ticker = yf.Ticker(symbol)\n",
    "\n",
    "# ดึงข้อมูลพื้นฐาน\n",
    "info = ticker.info\n",
    "\n",
    "# แสดงข้อมูลสำคัญ\n",
    "print(f\"🔎 ข้อมูลหุ้น {info.get('longName')}\")\n",
    "print(f\"Symbol: {info.get('symbol')}\")\n",
    "print(f\"Exchange: {info.get('exchange')}\")\n",
    "print(f\"Last Price: {info.get('regularMarketPrice')}\")\n",
    "print(f\"Day High: {info.get('dayHigh')}\")\n",
    "print(f\"Day Low: {info.get('dayLow')}\")\n",
    "print(f\"Change: {info.get('regularMarketChange')} ({info.get('regularMarketChangePercent')}%)\")\n",
    "print(f\"Volume: {info.get('volume')}\")\n",
    "print(f\"EPS: {info.get('trailingEps')}\")\n",
    "print(f\"P/E Ratio: {info.get('trailingPE')}\")\n",
    "print(f\"Dividend Yield: {info.get('dividendYield')}\")\n",
    "print(f\"Implied Volatility: {info.get('impliedVolatility')}\")\n"
   ]
  },
  {
   "cell_type": "code",
   "execution_count": null,
   "metadata": {},
   "outputs": [],
   "source": []
  }
 ],
 "metadata": {
  "kernelspec": {
   "display_name": "base",
   "language": "python",
   "name": "python3"
  },
  "language_info": {
   "codemirror_mode": {
    "name": "ipython",
    "version": 3
   },
   "file_extension": ".py",
   "mimetype": "text/x-python",
   "name": "python",
   "nbconvert_exporter": "python",
   "pygments_lexer": "ipython3",
   "version": "3.12.7"
  }
 },
 "nbformat": 4,
 "nbformat_minor": 2
}
